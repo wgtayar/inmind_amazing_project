{
 "cells": [
  {
   "cell_type": "code",
   "execution_count": 1,
   "metadata": {},
   "outputs": [],
   "source": [
    "import torch\n",
    "import torch.nn as nn\n",
    "import torch.nn.functional as F\n",
    "from torchvision.models import vgg16"
   ]
  },
  {
   "cell_type": "code",
   "execution_count": null,
   "metadata": {},
   "outputs": [],
   "source": [
    "def create_vgg_base():\n",
    "    base_model = vgg16(pretrained=True)\n",
    "    base_layers = list(base_model.features)[:30]  # Up to conv5_3 layer\n",
    "\n",
    "    # Modify the architecture\n",
    "    base_layers[16] = nn.Conv2d(512, 1024, kernel_size=3, padding=6, dilation=6)  # FC6 with atrous\n",
    "    base_layers[23] = nn.Conv2d(1024, 1024, kernel_size=1)  # FC7 as conv\n",
    "\n",
    "    # Replace FC6 and FC7 in VGG16 with convolutions\n",
    "    base_layers.append(nn.MaxPool2d(kernel_size=3, stride=1, padding=1))  # Add modified pool5\n",
    "    base_layers = nn.ModuleList(base_layers)\n",
    "    \n",
    "    return base_layers"
   ]
  },
  {
   "cell_type": "code",
   "execution_count": null,
   "metadata": {},
   "outputs": [],
   "source": [
    "def add_extras():\n",
    "    # Configuration for extra layers\n",
    "    # (256, 'S') means 256 channels and stride 2. 'S' indicates a stride of 2.\n",
    "    extras_cfg = [256, 'S', 512, 128, 'S', 256, 128, 256, 128, 256]\n",
    "    layers = []\n",
    "    in_channels = 1024  # Output channels from the last layer of VGG base\n",
    "    \n",
    "    for k, v in enumerate(extras_cfg):\n",
    "        if v == 'S':\n",
    "            layers += [nn.Conv2d(in_channels, extras_cfg[k+1], kernel_size=(1, 3)[k % 2], stride=2, padding=1)]\n",
    "        else:\n",
    "            layers += [nn.Conv2d(in_channels, v, kernel_size=(1, 3)[k % 2])]\n",
    "        in_channels = v\n",
    "\n",
    "    return nn.ModuleList(layers)"
   ]
  },
  {
   "cell_type": "code",
   "execution_count": null,
   "metadata": {},
   "outputs": [],
   "source": [
    "def multibox(vgg_base, extra_layers, num_classes):\n",
    "    loc_layers = []\n",
    "    conf_layers = []\n",
    "    vgg_source = [21, -2]  # conv4_3 and conv7 (FC7) layer indices in the base\n",
    "\n",
    "    for k, v in enumerate(vgg_source):\n",
    "        loc_layers += [nn.Conv2d(vgg_base[v].out_channels, 4 * 4, kernel_size=3, padding=1)]\n",
    "        conf_layers += [nn.Conv2d(vgg_base[v].out_channels, 4 * num_classes, kernel_size=3, padding=1)]\n",
    "\n",
    "    for k, v in enumerate(extra_layers[1::2], 2):  # From conv8_2 onwards, at every alternate layer\n",
    "        loc_layers += [nn.Conv2d(v.out_channels, 4 * 4, kernel_size=3, padding=1)]\n",
    "        conf_layers += [nn.Conv2d(v.out_channels, 4 * num_classes, kernel_size=3, padding=1)]\n",
    "\n",
    "    return nn.ModuleList(loc_layers), nn.ModuleList(conf_layers)"
   ]
  },
  {
   "cell_type": "code",
   "execution_count": null,
   "metadata": {},
   "outputs": [],
   "source": [
    "class SSD(nn.Module):\n",
    "    def __init__(self, num_classes):\n",
    "        super(SSD, self).__init__()\n",
    "        self.num_classes = num_classes\n",
    "        self.vgg_base = create_vgg_base()\n",
    "        self.extras = add_extras()\n",
    "        self.loc, self.conf = multibox(self.vgg_base, self.extras, num_classes)\n",
    "\n",
    "        self.init_weights()\n",
    "\n",
    "    def forward(self, x):\n",
    "        # Define the forward pass\n",
    "        pass\n",
    "\n",
    "    def init_weights(self):\n",
    "        # Initialize weights\n",
    "        pass"
   ]
  }
 ],
 "metadata": {
  "kernelspec": {
   "display_name": "Python 3",
   "language": "python",
   "name": "python3"
  },
  "language_info": {
   "codemirror_mode": {
    "name": "ipython",
    "version": 3
   },
   "file_extension": ".py",
   "mimetype": "text/x-python",
   "name": "python",
   "nbconvert_exporter": "python",
   "pygments_lexer": "ipython3",
   "version": "3.8.10"
  }
 },
 "nbformat": 4,
 "nbformat_minor": 2
}
