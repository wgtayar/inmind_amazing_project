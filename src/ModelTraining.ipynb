{
 "cells": [
  {
   "cell_type": "code",
   "execution_count": 3,
   "metadata": {},
   "outputs": [],
   "source": [
    "from LoadingBMWDataset import LoadingBMWDataset\n",
    "from sklearn.model_selection import train_test_split\n",
    "import albumentations as A\n",
    "from albumentations.pytorch import ToTensorV2\n",
    "import json\n",
    "import os\n",
    "from PIL import Image\n"
   ]
  },
  {
   "cell_type": "code",
   "execution_count": 5,
   "metadata": {},
   "outputs": [],
   "source": [
    "# Load the dataset by instantiating the class LoadingBMWDataset\n",
    "dataset = LoadingBMWDataset(images_dir='/home/wgt/Desktop/InMind Academy/AI_Track/Amazing_Project/inmind_amazing_project/data/Training/images',\n",
    "                             labels_dir='/home/wgt/Desktop/InMind Academy/AI_Track/Amazing_Project/inmind_amazing_project/data/Training/labels/json')\n",
    "\n",
    "# Splitting the dataset into 80% training and 20% validation\n",
    "train_dataset, val_dataset = train_test_split(dataset, test_size=0.2, random_state=42)"
   ]
  },
  {
   "cell_type": "code",
   "execution_count": 8,
   "metadata": {},
   "outputs": [],
   "source": [
    "# Function converting the bounding box coordinates from (left, top, right, bottom) to (x, y, width, height)\n",
    "def convert_bbox(size, box):\n",
    "    dw = 1. / size[0]\n",
    "    dh = 1. / size[1]\n",
    "    x = (box['Left'] + box['Right']) / 2.0 - 1\n",
    "    y = (box['Top'] + box['Bottom']) / 2.0 - 1\n",
    "    w = box['Right'] - box['Left']\n",
    "    h = box['Bottom'] - box['Top']\n",
    "    return x * dw, y * dh, w * dw, h * dh"
   ]
  },
  {
   "cell_type": "code",
   "execution_count": 9,
   "metadata": {},
   "outputs": [],
   "source": [
    "# Function converting the annotations from json to yolo format\n",
    "def convert_annotations(json_dir, image_dir, output_dir):\n",
    "    class_ids = {'bin': 0, 'dolly': 1, 'jack': 2} # Example class mapping\n",
    "\n",
    "    for json_file in os.listdir(json_dir):\n",
    "        if json_file.endswith(\".json\"):\n",
    "            with open(os.path.join(json_dir, json_file)) as f:\n",
    "                data = json.load(f)\n",
    "                image_path = os.path.join(image_dir, json_file.replace('.json', '.jpg'))\n",
    "                image = Image.open(image_path)\n",
    "                width, height = image.size\n",
    "                \n",
    "                output_file = json_file.replace('.json', '.txt')\n",
    "                with open(os.path.join(output_dir, output_file), 'w') as out:\n",
    "                    for obj in data:\n",
    "                        class_id = class_ids[obj['ObjectClassName']]\n",
    "                        bbox = convert_bbox((width, height), obj)\n",
    "                        out.write(f\"{class_id} {' '.join([str(a) for a in bbox])}\\n\")"
   ]
  },
  {
   "cell_type": "code",
   "execution_count": 10,
   "metadata": {},
   "outputs": [],
   "source": [
    "# Implementing the functions defined, converting the annotations from json to yolo format\n",
    "json_dir = '/home/wgt/Desktop/InMind Academy/AI_Track/Amazing_Project/inmind_amazing_project/data/Training/labels/json'\n",
    "image_dir = '/home/wgt/Desktop/InMind Academy/AI_Track/Amazing_Project/inmind_amazing_project/data/Training/images'\n",
    "\n",
    "# Storing the converted annotations in the output directory\n",
    "output_dir = '/home/wgt/Desktop/InMind Academy/AI_Track/Amazing_Project/inmind_amazing_project/data/Training/labels/yolo'\n",
    "convert_annotations(json_dir, image_dir, output_dir)"
   ]
  }
 ],
 "metadata": {
  "kernelspec": {
   "display_name": "Python 3",
   "language": "python",
   "name": "python3"
  },
  "language_info": {
   "codemirror_mode": {
    "name": "ipython",
    "version": 3
   },
   "file_extension": ".py",
   "mimetype": "text/x-python",
   "name": "python",
   "nbconvert_exporter": "python",
   "pygments_lexer": "ipython3",
   "version": "3.8.10"
  }
 },
 "nbformat": 4,
 "nbformat_minor": 2
}
