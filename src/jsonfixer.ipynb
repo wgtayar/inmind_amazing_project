{
 "cells": [
  {
   "cell_type": "code",
   "execution_count": 1,
   "metadata": {},
   "outputs": [],
   "source": [
    "import os\n",
    "import json"
   ]
  },
  {
   "cell_type": "code",
   "execution_count": 2,
   "metadata": {},
   "outputs": [],
   "source": [
    "def process_testing_data(file_path):\n",
    "    with open(file_path, 'r') as file:\n",
    "        data = json.load(file)\n",
    "    \n",
    "    for item in data:\n",
    "        if item['ObjectClassId'] == 11:\n",
    "            item['ObjectClassId'] = 5\n",
    "        elif item['ObjectClassId'] == 9:\n",
    "            item['ObjectClassId'] = 7\n",
    "    \n",
    "    with open(file_path, 'w') as file:\n",
    "        json.dump(data, file, indent=4)"
   ]
  },
  {
   "cell_type": "code",
   "execution_count": 6,
   "metadata": {},
   "outputs": [],
   "source": [
    "def process_all_testing_files(folder_path):\n",
    "    for filename in os.listdir(folder_path):\n",
    "        if filename.endswith('.json'):\n",
    "            file_path = os.path.join(folder_path, filename)\n",
    "            process_testing_data(file_path)"
   ]
  },
  {
   "cell_type": "code",
   "execution_count": 4,
   "metadata": {},
   "outputs": [],
   "source": [
    "# Replace 'folder_path' with the path to your folder containing testing JSON files\n",
    "folder_path = '/home/wgt/Desktop/InMind Academy/AI_Track/Amazing_Project/inmind_amazing_project/data/Testing/labels/json_modified'\n",
    "process_all_testing_files(folder_path)"
   ]
  },
  {
   "cell_type": "code",
   "execution_count": 7,
   "metadata": {},
   "outputs": [],
   "source": [
    "def convert_to_yolov7_format(data, image_width, image_height):\n",
    "    yolov7_format = []\n",
    "    for item in data:\n",
    "        class_id = item['ObjectClassId']\n",
    "        left = item['Left']\n",
    "        top = item['Top']\n",
    "        right = item['Right']\n",
    "        bottom = item['Bottom']\n",
    "        \n",
    "        # Convert bounding box coordinates to YOLOv7 format (normalized)\n",
    "        width = right - left\n",
    "        height = bottom - top\n",
    "        x_center = left + (width / 2)\n",
    "        y_center = top + (height / 2)\n",
    "        \n",
    "        x_center /= image_width\n",
    "        y_center /= image_height\n",
    "        width /= image_width\n",
    "        height /= image_height\n",
    "        \n",
    "        yolov7_format.append(f\"{class_id} {x_center} {y_center} {width} {height}\")\n",
    "    \n",
    "    return yolov7_format"
   ]
  },
  {
   "cell_type": "code",
   "execution_count": 8,
   "metadata": {},
   "outputs": [],
   "source": [
    "def process_testing_data_for_yolov7(file_path, output_folder):\n",
    "    with open(file_path, 'r') as file:\n",
    "        data = json.load(file)\n",
    "    \n",
    "    image_width = 1920  # Update with your actual image width\n",
    "    image_height = 1080  # Update with your actual image height\n",
    "    \n",
    "    yolov7_data = convert_to_yolov7_format(data, image_width, image_height)\n",
    "    \n",
    "    # Save YOLOv7 format data to a text file\n",
    "    file_name = os.path.splitext(os.path.basename(file_path))[0]\n",
    "    txt_file_path = os.path.join(output_folder, file_name + '.txt')\n",
    "    with open(txt_file_path, 'w') as txt_file:\n",
    "        for line in yolov7_data:\n",
    "            txt_file.write(line + '\\n')"
   ]
  },
  {
   "cell_type": "code",
   "execution_count": 9,
   "metadata": {},
   "outputs": [],
   "source": [
    "def process_all_testing_files_for_yolov7(input_folder, output_folder):\n",
    "    os.makedirs(output_folder, exist_ok=True)\n",
    "    for filename in os.listdir(input_folder):\n",
    "        if filename.endswith('.json'):\n",
    "            file_path = os.path.join(input_folder, filename)\n",
    "            process_testing_data_for_yolov7(file_path, output_folder)"
   ]
  },
  {
   "cell_type": "code",
   "execution_count": 10,
   "metadata": {},
   "outputs": [],
   "source": [
    "input_folder = '/home/wgt/Desktop/InMind Academy/AI_Track/Amazing_Project/inmind_amazing_project/data/Testing/labels/json_modified'\n",
    "output_folder = '/home/wgt/Desktop/InMind Academy/AI_Track/Amazing_Project/inmind_amazing_project/data/Testing/labels/yolov7'\n",
    "process_all_testing_files_for_yolov7(input_folder, output_folder)"
   ]
  }
 ],
 "metadata": {
  "kernelspec": {
   "display_name": "Python 3",
   "language": "python",
   "name": "python3"
  },
  "language_info": {
   "codemirror_mode": {
    "name": "ipython",
    "version": 3
   },
   "file_extension": ".py",
   "mimetype": "text/x-python",
   "name": "python",
   "nbconvert_exporter": "python",
   "pygments_lexer": "ipython3",
   "version": "3.8.10"
  }
 },
 "nbformat": 4,
 "nbformat_minor": 2
}
